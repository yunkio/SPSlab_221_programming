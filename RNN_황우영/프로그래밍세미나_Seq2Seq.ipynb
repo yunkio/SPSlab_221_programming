{
  "nbformat": 4,
  "nbformat_minor": 0,
  "metadata": {
    "colab": {
      "name": "프로그래밍세미나_Seq2Seq.ipynb",
      "provenance": [],
      "collapsed_sections": []
    },
    "kernelspec": {
      "name": "python3",
      "display_name": "Python 3"
    },
    "language_info": {
      "name": "python"
    }
  },
  "cells": [
    {
      "cell_type": "markdown",
      "source": [
        "# *22년 01월 18일 프로그래밍 세미나\n",
        "# ** 발표자: 황우영"
      ],
      "metadata": {
        "id": "malsOLaBC1mx"
      }
    },
    {
      "cell_type": "markdown",
      "source": [
        "###Sequence to Sequence 네트워크를 이용한 번역\n",
        "신경망이 영어를 한국어로 번역"
      ],
      "metadata": {
        "id": "Af1aqI65DSP4"
      }
    },
    {
      "cell_type": "markdown",
      "source": [
        "*   하나의 시퀀스를 다른 시퀀스로 바꾸는 두개의 RNN 이 함께 동작하는 sequence to sequence network \n",
        "\n",
        "\n",
        "*   인코더 네트워크는 입력 시퀀스를 벡터로 압축하고, 디코더 네트워크는 해당 벡터를 새로운 시퀀스로 펼침\n",
        "\n",
        "\n",
        "\n",
        "![rnnae.PNG](data:image/png;base64,iVBORw0KGgoAAAANSUhEUgAAAgMAAADdCAYAAAAmcHEhAAAAAXNSR0IArs4c6QAAAARnQU1BAACxjwv8YQUAAAAJcEhZcwAADsMAAA7DAcdvqGQAAEAiSURBVHhe7Z0H+FTF2fbtDQtiIfbeu+9rS0yw9xZbItEYjb1cGqO+aixYo7FrbKigYC+ACIKoIEVAFLBQLAhiBY0IKiq2+b7f43n+WdYtZ89/y9nd+3ddc+3OnDKnzTz3PDPnzDxBCCGEEE2NxIAQQgjR5EgMCCGEEE2OxIAQQgjR5EgMCCGEEE2OxIAQQgjR5EgMCCGEEE2OxIAQQgjR5EgMCCGEEE2OxIAQQgjR5EgMCCGEEE2OxIAQQgjR5EgMCCGEEE2OxIAQQgjR5JRVDHTv3j2cdNJJYeDAgVFK+alGHvXK3/72N7s2M2fOjFLSzezZs8N3330XxfLzww8/hC+++CJ8/fXXUYoQQohyUrIYWGCBBcJiiy1m/9daa60wzzzzhGnTpln8qKOOsvj1119v8UpQrjxeeOGFcOutt0axylGtfGDZZZcNiyyySPjwww+jlNwUuodJuPPOOwuGr776KlozmFF/+umnwz333NOy/IEHHgijR48OP/74Y7TWz3z00UfhiSeemGtf3bp1C2PGjInWEEIIUQ5KFgPt2rULv/rVr+z/FltsYYbkm2++sXg9iYGtt946rLzyylGsclQrn1IodA/jQGv+zTffDFOnTrW4G+rBgweHF1988Rdhzpw5tt4nn3wSunbtauvef//9Yfjw4WHAgAHh7rvvtrSePXu2CIJZs2aFLl26hLvuusv28fbbb4dXXnnFtmPdKVOm2Hrjx4+34/jpp58sLipLKV4a7uWXX34Z6958++23tt84nqJKUM8eR8oAx37NNddEKaUTZx/lyCebSuxTJKNkMbDGGmuE9dZbz/7vsMMOYeGFF7b/kMtQU8gwOG3atAnrr79+uPrqqwtWDlQK//d//xfWWWedsPTSS4dDDz009OrVK1r63zxuvvnmcOGFF4bVVlstbLPNNtbSzOSqq64KO+20kxm+fffd11qUgBFZe+21bR+0kMnnkUcesWXZ0KI97bTTwpprrhmWWGKJ8Otf/9pa+g7LL7744rDjjjuGJZdcMmy33Xbh/PPPt0owbj60klmGi5//W221VVhppZXCueeeGz777LNorRC+//77cOWVV4aNN97YWvW06E844YS51tlss81sX97KP/300y3eo0eP8Lvf/a5FABS6h/nACHBOzz77bIuRnjhxoi1zMfD5559bPBfcc86f9UaMGBGl/gz3/MEHH7RlL730kqVh/Iln3nv49NNPw6RJk1rOe8iQIbYez9nQoUPNmyDKTylemnfffTc89thjLSKPX57B9957L1rjv2QKPA9s29r7eNhhh1nZ69u3bzjnnHNa6gyHY3ruueeiWHUaMkkp5l2k3sAjSFlOylNPPWXnTx2XjzjrlEqcfZbbkylyU7IY6Ny5sxUkePjhh8N1111n/yG7QN17770W33DDDcMdd9wR9tprL4tnbpPNH/7wB1sH4XDBBReEVVZZJcw///xh7NixttzzoMXNfnfddVeLE7yyoZIijnG+5ZZbWh6ghx56yIwJRpQ4Bv68885rMUDZ7LPPPrYegoTCiBFdcMEFw+TJk235iSeeaMv/9Kc/2XXp2LGjxREicfPp06ePrbPRRhuFVVdd1SoxHnzSrr322mitEP76179a2gorrGBCYfPNN7c4vxhqWHzxxS3NuwmOPPJIiyPGEEV77723pRe6h9l88MEH1uLnXlJRcw0xALT4HK/EC4kBlvl6//nPf6LU/4KXgGUYDeD6EUd0YPA5jnytRvZHhcl9Zxu6HfAmZAolURp4ZrjPjOuI66UBnnHSCHh6WJ976mmZ4uG1116zNJ6pV199Nbz11lt2H0lj33irENajRo0q+V562UMgXnHFFfY/s0Ew33zzmQB30iwGquFdTLMYaK0nU8SjrAMIswsUBp04Bg9mzJhhKo+Wby7eeOMNW3/eeedtMSz9+/cPv//971tUveeBEXSX8s4772xprp6feeYZq1DYH3hlcMwxx1icSod4oQJGRcU6tPjdCGFASfNKhNY28e7/v1XKsWCUn3/++RaxECcfLwwEP16EE3FX+lS+XBPSXPDQ0qaQkPb4449bWrYY8Gu17rrrWoVeKpwP1xFDgPsUg5wL1skX8CQAFTBxDHUu2DfLycvB4Hi3AoHrj6fAPRLZcLx4DWgNYrhcWIh4YPhff/11u8ZcbwQg3q+4Xhq6gbjurJvdcnv//fdb7iHbAS1a0ihrmVB+8C7QFUG5uu+++2w9PAY0CuhOKMbZZ59tzz77pkHA/969e1sdgWEh3rZtW/OcIWy9rBTzOFLWy+nphNZ6MRHrLGPfDuLqlFNOsUbGMsssE/bbb7+C5cHroe233z48+uijYcstt7TrQ91LvZ25Tqbh5h7+8Y9/tEYK21x66aUt99chXzye1KXsn/P1bqbsfVKGaRBxPlxrSOLJFKVTMTGAAaVFT3yDDTYIm266qYWFFlrI0nIZJwo7y3gQ8uF50Dp2+E8aLn1ASOB2/stf/mIPD/tj+SGHHGLL4xhpWsyss+iii7Ycu+9nt912s3Vuv/12ixO8wPEAu3goRQxQ6B0qPNIoYODXhQoqE1r6pNNVAfnEAB6MJLgY4FpyTBiLXLAOgYph0KBBc4Vx48bZOm7s2Vcu3OBkL6cyfeedd8KwYcPsOnhetPhygWGiGwJDJjFQHJ5VRKgLKK4t4p37wf2HuF4aBoGyHmUnF+5JcC8fLX7ilBmMFx6eXIaVNAwjDQPEBNvQZcGzla+FyPNx+eWXW12AIOA/AoNnskOHDlYuaHHjseMZ87JSyONYCU9nObyYuQxq+/btra6lIfTvf//b6i+6EiZMmGDrZOP7oM6hW/Tvf/97WG655SyNc8hcx/NB8C211FIWEFH777+/LT/ooINsOXjdRd101llnWZcqca4FZO/z5JNPtjhCxinFkymSUzExwKAxXHHEUen/+te/5gq5XMq0AFifgpOPzDwc1ChpiAH61lHDxI844girOHybUsQALVjWoXBkHzuVgoMXAtHhCp5AdwGUIga8MACD8zxvwEASp4WfCaqddFoykE8MtMb1SUWK54HrSIGkQqZidq8MsIyQ6546tL5YB4OSS1TgeWB5sQFcXBvWw4PghoNnjUoOt7TngXHjOEVhXIRhqDE0+TxIcbw0fg+zx4Q4Pr4DgwzcN54n3yeBssWg0unTp9s62fDsYEgxCqzvRrUUEAaUi1zdBIU8jpXwdJbDi5ldh3DtiK+44ormuQEE3MiRI/N2t/g+CF5/cL+Ic454iLLzoSzyTJAOPEssxwPgIEJIo0wCz9cBBxxg1xsRlrlPBhHyH/GRWb+I6lDRboLVV1/d4pktBdR55qtmmVAZsT4iwvukaRHy8Fx00UUWz2XgMsUARoH/qGJ/oLxv3xWrF7Dll1/e4rnwY8El5a0PjpuC4q0iCjgFwKF1g/uQcQWIkjj5ZBcwyBYD3mVByHTBsV/S/PpWQgw45JvZL9/9/7fmuJfgFXkhMQBUoqxHBZhZ2KkgMAIs49yBMQQYKPqcM8EVzXpUQogB+qDdSOUazyAK42KAe4PhcG9ALop5adzYZ98zByPPcoxSJnwXg1Y+A/p4rlgH45GrW4p7ztsj3sVQbjGQz+NYKU8nZaa1XsxcdYgLGQKNiGOPPfYX1z0T3wd1tkM58gYdYiU7H8owwo5uEPIj3fMEniXqQuKIyVz4PvEueFco3R6i+lRUDLjSo78HI/KPf/zD4vQJ5YM+JdbBnYSBYIQ88RtvvNGWFxMDVFj0zRG/7LLLQqdOnVpa7fzyKgt9jl6Ib7jhhhZXdjbbbrutrXPggQdaq5MHngeWljIPOn2KPOy44ajIUPsUHs4X4uQTRwwAXRCk0fdGq2z33Xe3OF4QFyeVFAMOFQB9urRwvIBTKRP69etn1yE7eKVOxedGn75PjAdjCjwts7LC6JCGUeAa4VKmksBjQ7q3LmmNMk5DbxEkA4GL8HIjTDlF9GX3++Yi20uDaCX+5JNPRmv8F8qLi7ZCHhueL28tZ3qJEAyIDO9qoC+f56eYAM1FITGQr16phKezXF7MXHUIx0u9RFei14ded+XC90EXiEO/vgsgGlnZ+fDmFHHGUFA/33bbbRYnAHWxG3jGouTC98m1dU8nIotrI6pLRcUAN5S+ITdS9KsjBPL1PcPHH39sfU+4ptiGfisGnDjFCi3g1sN1x4NIHyDG8eCDD7a4D8rjtTsMNQ9hPmPJoKc99tijpUBg5DPXxWDRt+iFDbccXQSZRr9YPrkKci4xQGXIGwWMYWAZ++Q6cYxONcRALqjECoXMfkruPQLBPQwYCFqluSoLrm/mSHQCRgujUKgFK0oHI4yRpsXt/fJcewxCXC8NLUk3+O7hcXgGfF32ibGi35/nILtLgHxYFzHAfhn4RxxhyLOCgWyNsXAxkNkvHadeKbens1xezOw6hGtGveCDOLlWDHRkHe//zybTKPsXTLnvnparm8CFjI/N4X4RJ/j5MPiPuA/E5L4jdBh0SJdF9j59HEZmnS+qQ1nFQD54ODHy/MaF1m5r3iUlr2y1TkvdH1IgHucVFRRusZZSvj5OiJtPHDh+jH0jKGeuSZxnAsNPZZRr0JooPxhrurxwc+P+juulAYQwaQQMN8bPu4cQApkeHLxCpCPwMCQYT7oS8DSQjqHl3tP9w+BEylE5ID8MDgPlOAfOMY4YKLens1xezGyDynY0GjbZZBPzwCHwDj/8cFuH1nwuuEcs57Vm9sOgPbwEpNFih+x8/NVlDDjPBh4QGjCkkS/llfMkTuOMRppv85vf/Mb2kb1Puq3omuU4NOanulRFDAgh6ptSvDSIVbrV3KjjVcDwZ3flIGzZnv34PjEquLJ94FsloOXr3+lghD3dXnHEQCU8neXwYmYbVOCa/8///I91Y7IvRMiZZ55pAiQXvE7IPjDsDEhm7BNxukrd05idD+M16ColDRHA84HgY1u8qZw7zwaeGAYVsh7Xm27XQq8r8tYEaRyLqB4SA0KI2JTipcHr4++TFwP3MfvN9NxVGl5lTJJfuT2d5fRiZoPxTzKuguON+6Gn7PXIM9excs0awaPZqEgMCCGEEE2OxIAQQgjR5EgMCCGEEE2OxIAQQgjR5EgMCCGEEE2OxIAQQgjR5EgMCCGEEE2OxIAQQgjR5EgMCCESwUd0TjrppJbA9LulUuyjRHyMqNIfquFreK3No9in0zkP/+Z/peAc+LBPa+Ba5JtrISl8qj3zOeGLhCJ9VE0MlKPi4HOmhb4YVo1CXQ6KnQdf8Kp0xVGOyonPsGZ/ijYT8ij1q2mqOOqHiRMntnxilu/SMwFPXPiULXMO8AliJrHJnuKWMsJERnyemImTmCUz6dwUzCbKcRIyZ8Yk39/+9rf2mV/mCODTwiNGjIiWFodj5Bn1CYxWW221cPzxx881eRjnyaQ8fI6XTxLzieHbb789WhoPjDPTBPt0wEwglAl1Hsfhk5gxd8Idd9wRLY0Hc0PwOWSuBZ8SZoK2XPUDX0vs0KGD5bPKKqtEqYVhjgGej7XWWsu2Y1ZCkT6qJgZaU3HwjXAKGtvzXfBsA1HpQs2kLKRnB/IrhWLnwTHzXXKWUXFQ6Eot1MUqjnJUTkxV69MOU1EzEQqG30FQZc53zyxvhSZyykQVR/3gZZpptUuByWh4Lpi/gGeJX+LMfwCITOYr4BkbM2aMTVHNcqY2LhVm/WPSG5/sx8UAk/lg9Nq3b28zCPpEPm3btm2ZYbAYGEy2YXpx5lPwKXiZyRQQ/D4HwnHHHWcTG/nERJxzHDhOjG67du1avu+fXaaZfZF08mLCI+Y6oGwz8VMcqOeWXXbZsNRSS4VLLrkk/PnPf7b9+QRFmTA3gl/LuGLAee+992w7lel0UnUxUGrFwexgbMekG8wbztzZxJltDKpRqHv16mXx//3f/7XC4IFZxOJS7DyoABEKFGLmWT/nnHNaJkTJNT98LopVHOWonN544w2rmDluKmqEAPF+/frZcsQIlTgtOubFp/JFrPnUtXFRxZF+kpZpnmeeGaZABsQjcX/OeY6Ju+GmNcrzxjNVaFKgbPBaMdHOlltuGXbaaSc7Vt8n5fzYY4+1XyAP6gzW4bmOg88wOHToUIsPGTLE4kzbC4gbpiSmLDvHHHOMrXPuuedGKYXp27dvOPXUU83r6VMGZ5Zprh2z/FF3+FwJH3zwgZWfQt7HTG666Sbb7xlnnGFxrhvTsdPYyfRycL9pzJ111lm2vsRAY5F6MeBTgHpL3wucT4FZjUKNISN+8sknWzwJxc6D68NsYbfddpvFgRY861x33XVRSmGKVRzlqJxw11JRv/766xbneiN0SGNCFOax5z9z0DucK2lx7weo4kg/Scs0hp3nwb1JiETiPEdAGSHO/h0XED6DXhzoisRDxnTMTCHMsWZ2E2TCVMssp9UbV3AwHTDbMC0v5eHoo4+2eGb5yoQuM6ZNZh1vBJRCrjJNeSStY8eOdg4cE7MiUn7iwqyI7CPTQ4inlTRmmwS6IrjPNGIYl8CyaooBuojwIonKkXoxgMuL7TBwgBImTos2F5Uo1HgBfDluuN12280KUFzXN5RyHlSOdE0w3SnqnHndSyVXxZFNksoJwZFdUSPESMPFP2HCBPvP1KQOIoA0+iXjIjGQfpKUaVqrtPB5HrwlSxpxAv8HDBhg/73bADwt7tTGCADqgIsvvtjihcTAqFGjzJvG8n/+859Rajy87vDA9Lt+Xpkw6yBdcqxD33ySsU0bbrihbZ9ZpummI41yTF2BZ5E4Ln+6SOLAFMtswxgOZ99997W0++67z+J0HyCsGNvBbI8sq7QY4FmgcfHggw9avdupU6cwaNCgaKkoN6kWAwykYy5utvOBaqQRJ2T2U0OlCjUtdk9nkI4fE4WBQl6MUs6DPD19u+22m8volkKuiiOTpJUT889TKdOtgJuX4/OKHCHw6aef2n/msqcypxXBmAHS+vTpE+2lOBID6SdJmeb5djHgbmyePeIYNpYzNoB4puF3j9TkyZOjlPxQnpi/ny4xH3SYTwxgXJZYYglblq9Fnw88Dz7uBlf7zjvvbAY528uG8eQaeVmjjCQhV5mmNU8ax0HZpLGx5557Whpevzh4t6gbfvB9PPLIIybmEQIYY6iWGCA/rjG/HhiLhIeAZ4/nY+rUqTbmi2vKgEd/pkTppFoMUJDdiLrBpE+aOOMEMkeyV7JQ0xpGHFx77bVW2DByK6ywguV166232jqFKOU84IgjjrACwzFQiSXxDBQSA62pnPAmUEFQMRMYH+CDBRkYBnS3+HICXQb8Mr4gLhID6SdJmQaMDs+DjyHBg0f8/vvvtzhjTYgzdsDhzQLS8KgVA7HBcTEAF4NI8PLKuCAGJwLPJX3g9Ll7WlwoB4zLoYz6MVGOKM8MWKR8A90aXhYZmFfq2zWZ5CrTCOzse8B1JA1XfxwYPM36vHXhMNaCNDyteEKpv/CMci19XFabNm0sznMQh1LLNOOQqI8ZaO2eAeoejon6HtGIB5JngzoID0Lnzp3t/LkurIenl3xnzZoV7VXkI/XdBLjK2c4LHANaiFO4nWoU6my8K+Hvf/97lFKYOOeRzWmnnWbrMGCnVPKJgXJUTrTk6BLA+FOR9+jRwyrqzP5czpPBhlxLXIssp3DGRWIg/SQt097Kp1UHtPaJ0xUAPu6EtwgAMe2DUL2lXwjewGFAcWbwEfB4DilPtCoxZjQCkrie/fnESGbWGy762T9eDn8Nj7LcWnKVaeoR6irqP+8WpWuE9Q455BCLF8O7GjDygNeQwct4QWlt77PPPnNdS6/LqDOJ+1irYiQt0zRe6GJEDBRrGHHNMfw8W3gQODaEAQKBZwgBgcis9Kvb9UjqxYCP9PcBabicidPPBdUo1DfeeGM46KCD5nJz+6h8lsWh2HkwSHDllVduKZCAGmYdf6uhFHJVHOWonPCMUJj8WlE5U5lQ0PB6EOirRAg4/sYB1zIuEgPpJ2mZpqLmeaAlx2BBH1DIKHhAbDKYkK4mKnMfPBjX6OQiu5sAA0ccw8ZrzpkBsRKHTTbZxPZB2cYb4fvk1VjKGl4z4oS99tprrjwuuOCCaC+F4fVAPJQEXv9jX3gOifOWE3hLfYMNNrBXov0tJER6HGjwMHYJwcRbRj7YmYHZuahWN0G54e0y6iWEBY1GnjEGSCI+k4zhaDRSLwb8tb5VV13VDBivvBD3VkQ1CjUPDPFlllnG3ijwwkIrg/6qOBQ7DyopFD5qm8E7Rx11VMvrgVdffbWtU4xiFUc5KqfPPvvMjD+uXvoo/R1xr2S5Xj6gkLcIEGj8Z3ASy+IiMZB+kpZpGDduXMtbKFTMmeIRMDiPPvqoLUcUUIFnd6eVQrYYYEyBl4XskPlGTyHwaPAa8Lrrrmvb0YDYZZddzLgA7u3sfXvgVcc4eJdHrnDCCSfYOnS34MLHO0A6gwfjvoHkjB492j5WxPZ4WPlWSz6vYb2KgWzwgPAM01jxZ8wFaTOSejEAjOb31wUxyPQLOdUo1HDNNdfYsWOsWc5/BiyWQqHzAAw2fZp4OlgHNx3dEHErwWIVRzkqJ6Ai94oajwCtu0xDz8BCvCiIBgItu3zdLfmQGEg/rSnTTrFvTzDQth4GheEp41hrCa1bGieliO5sMPQ+rqncpLlMI3zoVmDsAeKUhk6zdSXUhRgAHnB3TVeSYoUaN3ncVxZzEec8yB9XamtaQtWgWOVH5ZT0HCQG0o+XaUQ0A7lKGRMimgcaAjwf7plMe5mmjqeBw/HiFeb7Kc1A1cWAKg5RiHqrOJoZL9MeGEcjRDZ4WDOfk3op0zRk+Hy7DzxsdFFQdTHgQRWHyEW9VhzNCJ4fRrN7qIbnTtQf9f6ccPwuChjjFefbMvVI1cSAKg4RBz0nQog0Qt3Ea9K84spva8ZmpJGqiQEhhIjLyy+/bG/HVJpK51ON82iUa1Uv4BlgUDSDDRlw2Sg0hBhQxREfVRyiHlCZjo/KdG3gdVi6DrguaR/sHQeJgRKodD7VOI9GuVaisVGZjo/KdO3glUQGF/KqdamvT6cNiYESUMURH1UcojWoTMdHZbr2MEsmb0AxMVu9IjFQAqo44qOKQ7QGlen4qEynA75eSLcBH2WrRyQGSkAVR3xUcYjWoDIdH5Xp9MDgQuad8Um26gmJgRJQxREfVRyiNahMx0dlOl3wCiKTcPH1wnp6/VBioARUccRHFYdoDSrT8VGZTh/Mp8HrhwwurBdBIDFQAqo44qOKQ7QGlen4qEynEwRB375960YQSAyUgCqO+KjiEK1BZTo+KtPppZ4EgcRACajiiI8qDtEaVKbjozKdfph8bcyYMVEsnUgMlIAqjvio4hCtQWU6PirT6WfOnDnhgQcesInY0orEQAmo4oiPKg7RGlSm46MyXR8wBTLfIZg+fXqUki4kBkpAFUd8VHGI1qAyHR+V6fph6tSpoXv37mH27NlRSnqQGCgBVRzxUcUhWsP48ePD4MGDo1jlqHQ+1SgHQ4YMqcpX76qVT6PD9Mc9e/ZM3YDChhADqjjio4pD1ANMDXvbbbeFGTNmRCmVodL5VLpMc9wcf6Wn0q1WPs1C7969bT6DNNEQYkAVRzxUcYh6gilib7/9dhOWY8eOtdHYpQa2Yz8zZ86M9vpLGNSVL5842xeCMk1ICvmSf67j4ng57kKD0vJtHzfEzUeUBp8t7tq1a5g1a1aUUnsaQgyAKg5VHKLxQFC+9tpr4cUXXwwjR44sObDdc889Z+J0ypQp0V5/Sb584m6fj9aUafIjX/LPdVwcbyHBXWj7uCFOPiIZr7/+eujVq1cUqz0NIwZAFYcqDiFywQhuRCojupPA9nfccUfJ2yct0whz8ks68pztOd9p06ZFKSKNIAYQBWmgocRAuVDFIUTjMWjQIBv3k5Qk21Oek3T9kQ/5JaW124vqQHcBrxum4e0CiYE8qOIQorEYPXp0q8bkJNk+aZlO2jBwWru9qB7Dhw8Pw4YNi2K1Q2IgD6o4hGgskpYvJ8n2SfOsxbGK2vDNN9/YYEK8BLVEYiAPqjiEaCxUpkVa4V4NHDgwitUGiYE8qOIQorFQmRZp5bvvvrOxA0nHqZUDiYE8qOIQorFQmRZphrcKBgwYEMWqj8RAHlRxCNFYqEyLNIN3oEuXLjV7s0BiIA+qOIRoLFSmRdrho20MPq8FEgN5UMUhRGOhMi3SzmeffWazGtZiEiOJgTyo4hCisVCZFvUAXyVM8gXb1iIxkAdVHEI0FirToh6YNGlS6NOnTxSrHhIDeVDFIUTjwBc2H3jgAQvvvvtulBqfJNsnzbMWxyrSw48//hjuvvvu8O2330Yp1UFiIAeqOIRoHHhlq1OnTnOFUkiyfdI8a3GsIn08/fTTNoNsNZEYyEIVhxCNBa9sXXbZZfZ8X3rppSV/6S3J9knzrMWxivTx1ltvhf79+0ex6iAxkIUqDiEaDzxf/pwnmWI7yfZJ86zFsYp0MWfOHOsq+OGHH6KUyiMxkANVHEI0Fm+++aY941dffXWUUhpJtk+aZy2OVaSP3r17V7XrVmIgB6o4hGgsGJSF6OX770lIsn3SPGtxrCJ90I07ePDgKFZ5mkYMXHjhhbEDBYlwxRVX5FxeLCTZPmmeSbfzkHR7IWpJrmeyWLj44ovtWc+1LE5Isn3SPGtxrASRHqZPnx4effTRKFZ5mkIMUCjmmWce+40bKExeoJKEJNsnzTPpdh5K3X7eeedVxSFqBs9gqeVZoXhQuU4XeHjuuuuu8P3330cplaVpxIAe8vKh6ylqiZ6/yqDrmj569OgRPvrooyhWWSQGRMnoeopaouevMui6po8XXnghvPLKK1GsskgMiJLR9RS1RM9fZdB1TR9vv/22fYCoGkgMiJLR9RS1RM9fZdB1TR+ff/55eOihh6JYZZEYECWj6ylqiZ6/yqDrmj4YPNi5c+coVlkkBkTJ6HqKWqLnrzLouqYTvhcxe/bsKFY5JAZEyeh6ilqi568y6LqmE94omDZtWhSrHBIDMeD70HzHP1eo1jug+fBj++mnn6KUytNslQaq/KuvvopiotaU4/nLLtNpohZlGiQG0skzzzxjAwkrjcRADDp27GgfOckVttlmm2it2nDCCSfYcVTzS1XNUGnwwY+xY8eGbt26hTvvvNMC/8eNGxetUT6+/vrrMGLEiLJV/uyH6U+r9X5ytSnH8/fHP/5xrnK88MILh9VXXz2cc845YebMmdFataEWZRokBtLJqFGjwujRo6NY5ZAYiIGLgaOOOqrFMHh44oknorVqg8RAZUCNc3+feuqpMH78eAuPP/64pZW7YDJZFPstlxgYOXKk7W/SpElRSmNRTjFw9NFH2wCtm2++uSVt4403Dl988UW0ZvWRGBCZ0CihsVBpJAZi4GKga9euUcovYe7pTTbZJHTp0iWceuqpoX379mHttdcODz74YLTGz7APKpu2bduGAw44IPTt2zda8jNXXXVV2HrrrcNSSy0Vfve731nFngn5sP3SSy9tFdmRRx45V8XB96wPOuggW77OOuvYnANuZHhNhWM86aSTwrHHHhuWW245O95SafRK47333ssp9GbNmhWGDx8epk6dGqX8zKuvvmrr3nvvvaFPnz7hk08+iZb8bJgREaQhLHwdNzaDBg2yqUrJj/U++OADS6dV37NnT1uffX/88ceWPmPGDOtDZJkPKhoyZIhtO3HiRJsHvXv37rY/nr0XX3zR1mkkyikGuL6Z7LfffpbuE3dRdpjmG6/BsssuGw499NC57i80QpkGiYF0gjdy6NChUaxySAzEwMXArrvuGk477bS5Al+IAt4FZR0K/EYbbWTrEsf96FMD33fffZa24IILhh133DEsuuiioU2bNuH999+35f/4xz9alq+//vr2f4EFFjA3EdDSI076dtttF5Zffnn7njhxKg4qiC222MLiW221VVhjjTXs/+WXX27bcxzEyXe++eYLiyyySHj22WdtWSk0eqUxZswYM6YvvfRSlJKfl19+2dbFoHMP/P+nn35qy7m+pGGgqfQfeeQRi/MfnnvuuRYxwPY8C1TwpBH69etnxob/pAPGn/UHDhxoU5zyn/3S18wslN61cf/991elRVFtKikGrrzySks/8cQTLY4QII6479Chg/2njDmNUqZBYiCd0OVHWa80EgMxKDRm4LbbbrN1XAysu+664dtvv7U0Ci9ptCYBkUB8wIABFqeS32mnnazlh/pn2WKLLdYyhzUtANKoZOCss86y+F//+leLf/nll2HxxRe3NCoOWiT833nnnW35N998Y8tp0WAovOIg4AandUp6qaSh0uAacRwUEhdb5YJpQzGmxcYHcH1Zj/vIvQA+HUqatw5dDHgLnfWI0zXgYLRJ89ae509LH9zge+uAwWXetYDIYDIT9xwAzxvL6r2bIN89Lsfzl08M8BoX6XvttZeVjSWXXDLMP//8Ld6Aww47rKX8QKOUaUhDuRa/5J133ml5viqJxEAMXAyceeaZdlMyg7cAXAwwrsDBpUgan5PkrQNaAHgKKNDZ4PplXSohB1cxaRR+DAUuSOK4hB0qCdKoOHBH8p9BjWeccYaFlVde2dJwP3vFgfeiNfj1pOXcmkCr2kOu5YUCxpDjuPTSSy3g1sX9Xg5oTWNMi40NcCOd+blQBgOS5nPJuxjw5wQw3plGKFsM9OrVy+LPP/+8uZTxPhHv3bu3LQfvyiC4d8oppxjIde1LCZW4x+UwWvnEwA033GDpf/rTn8LkyZPtP+55L08YetKuv/76hirTUI7rKsoP3ZJ0MVYaiYEYxBkz4GKAvjvHt8NYYCT4T79iLnz7ww8/PEoJpvKpbBZaaCFT+3vvvbet8+STT0ZrhHDggQdaGhWHuzjpV6SbIjNgGLziwNXYGvx6Zlb01Q70h3McHjAW/JaDCRMmmDHNdrfSaqPF9/rrr1scxc56GG2HVjsuffptqexdDGS23FleSAwwHoA495luAg94DJxMMeCtVKecYiDXta9WyHePCZUSA3T9kX7BBRe0iAG8A9nlifvbSGUaynFdRflBQGY2BCqFxEAMShEDJ598cpQytxiAlVZayeJeSWNYNthgg3DLLbeYYWEZfYbu5vOWxeabb27xU045xeKXXHKJxTEeuAtJo+KgH5L/eCQcjotWFq/KecVBV0ZrSEOlgQHmOOjTpQVJXznnWA74pgD3GqPtff/gffVecVOxE6ff2A25ewu4dxBHDLjL34+fLgXiU6ZMsTgDBfnvXRHeTYCHwQcL8vw47tmoxrvJlSTfPS7H85dLDHCN8QLQZ8+4EVhttdVsDACGH+iq4Z4ymBQapUxDGsq1+CXyDJSR1j7kbtRR59tvv/1cwfv+4ogBjoM4g5FOP/30sOqqq9qgH0ajww477GDLGWh0/PHHW18jcQaHARUAcdIvuuii8Jvf/GauwUZUDu3atTO35dlnn93SH7nHHnvY9l5xsP/WkJZKgxZ6pT4YQ8sUg4oo4P49/PDDFscA+4h/oE+XdK7/sGHDbH3itCohjhhgW9Zhe740xv6J80wxbsHzwBgCBok4v1QU/EcUuKvaj53t8HLUM7nucTmePxcDGFHK8aabbmrlhjRG8zvHHHOMpe25555m4DHUuOTxzECjlGlIS7kWc4PQ1JiBMtHah9yNeq6Auw/iiAEqa94h9tHDtCCuvfZaWwa0SA8++GBribCcSsAHKDo33XSTjRhmOaOPGcfAfyoOoFWJaCGNY6OP88MPP7RljSYGKg0D+NyFj5GnQPpAMId+Yww+YwTcKPvAP4gjBniPmHUIbrxfe+01W4c0PA/+VgAuQ0+bM2eOpfk3EXgzAfBm+LY+kLGRKMfz52LAA8aY8ohb3gcAAx8g2n///VvK7IYbbtji9YFGKdMgMZBO9DZBGUnbQ04lnmkcssHA0Dp013M2bF/sW9VUEpX6hG6zVRq4iIuN0OZetWYyEQyQG/dMku6TFmVrjifN1OL54/7wdkA+6r1Mg8RAOtF3BsqIHvLyouspaomev8qg65pO9AXCMqKHvLzoeopaouevMui6phMGkfqA1koiMSBKRtdT1BI9f5VB1zWdMCZIsxaWCT3k5UXXU9QSPX+VQdc1nTBgtdh4knIgMSBKRtdT1BI9f5VB1zWd8KZSNQYDSwyIktH1FLVEz19l0HVNH7yFwhTb1UBiQJSMrqeoJXr+KoOua/pgplK+YVMNJAZEyeh6ilqi568y6LqmDwYO+kfrKk3TiAG+0sWDrtD64NdSiFqQtDwz6yEh17I4Icn2SfNMup2HJNurXKcPZiRlWvRq0BRiAKhAFMoXhKgluZ7JYoHPBBNyLYsTkmyfNM+k23lIur1IF7xJwCfIq0HTiAEhRHPDBE5MDJSUJNsnzbMWxyrSBZ8UZ2I0BhFWA4kBIURTIDEg6gnmwvDJqqqBxIAQoimQGBD1BNN3DxkyJIpVHokBIURTIDEg6onevXuHKVOmRLHKIzEghGgKJAZEvcCU1nfffXfRqdPLicSAEKIpkBgQ9cJbb70V+vfvH8Wqg8SAEKIpkBgQ9QIfGnrjjTeiWHWQGBBCNAUSA6Ie4JVCugi+/fbbKKU6SAwIIZoCiQFRD0yaNCn06dMnilUPiQEhRFMgMSDqgV69eoXJkydHseohMSCEaAokBkTamTFjRujWrVv46aefopTqITEghGgKJAZE2uEjQ9y7WiAxIIRoCmphYJPmWYtjFbWFOQi6dOkSZs+eHaVUF4kBIURTIDEg0gyfH+aVwlohMSCEaAqGDh1qFW5Skmyf1Ci39rv01f6uvWgd3333XbjnnntszECtkBgQQjQ8X3zxhU0H+8knn0QppZF0+6RigHzI78svv4xSSsO357hF+uEZGThwYBSrDRIDQojUgjF85513rKWbJIwbNy6MGDEi3HbbbfY/H4XyibN9PhADhCSQN/mOHDnyF8dE4HgLiQXWYXuOn2PP3j5uKJaPaB3ffPNN6Nq1a82Fm8SAECKVfPjhhzagim+0Dxs2LHEYPXp0mDZtWrTXX1Isn2LbF6I1YgDIl/xzHRfHy3Fz/PkotH3cECcfkZzhw4dbF1StkRgQQqQOWkm0at9///0opTJUOp/WioFicNwcf6VbldXKp9ngeuIV+Oqrr6KU2iExIIRIHRMnTgzPPfdcFKsclc4HIVDpUf0c/4QJE6JY5ahWPs1Ez549rSsmDUgMCCFSR6Vb1E6l86mGGKAboNJ5QLXyaRYQAXx6OC1IDAghUkc1jChUOp9qnEejXKtmwrsHZs6cGaXUHokBIUTqkBiIj8RA/dG7d+/wyiuvRLF0IDEghEgdEgPxkRioL1599dXQo0ePmkxGVAiJASFE6pAYiI/EQP0wderU0L1795rNP1AIiQEhROqQGIiPxEB9wPgAPjk8ffr0KCVdSAwIIVKHxEB8JAbSz5w5c8KDDz4Y3njjjSglfUgMCCFSh8RAfCQG0s9TTz2Viq8MFkJiQAiRKgYNGhQeeOABC++++26UWn4qnU81zqNRrlWj8uOPP5oQGDBgQOoGDGYjMSCESA18iKVTp05zhUpQ6XyqcR6Ncq0alXoSAiAxIIRIDczrftlll5nBufTSSys2rWul86nGeTTKtWpE6k0IgMSAECJV4Ip2w/Of//wnSi0/lc6nGufRKNeqkUA8Pf7443UlBEBiQAiRKt58800zOldffXWUUhkqnU81zqNRrlWjMGvWLJvdcezYsVFK/SAxIIRIFbhYaYXyTnYlqXQ+1TiPRrlWjcCHH35o14cxFvWIxIAQInV8//335m6tNJXOpxrn0SjXqp557bXXTAh89NFHUUr9ITEghBBCJOCbb74Jzz//fHjkkUfCl19+GaXWJxIDQgghRIkwjgJvwIgRI8IPP/wQpdYvEgNCCCFETL744ovQp0+f8OijjzbUmxUSA0IIIUQRGDPB9MNdu3a1twXq6bXBOEgMCCGEEHlABLzyyivWJfD000/b64ONiMSAEEIIkQXjAPAAIAKeeeaZMGPGjGhJYyIxIIRIxLRp08JJJ53UEq644opoSfmgAqZl1ho4zkKUI49isP+PP/44iiWD4/zqq6+iWGWYPXt2wcFwTMXLCPpSYP7+zOfk8ssvj5akk88//zyMHDky3HvvvU0hAhyJASFEIiZOnBjmmWeesMgii4T1118/HHDAAdGS+Nx88822DwIVsENr7Le//W2Yb775wtJLLx0OO+wwG7UdF973xvCsvvrqtu/VVlstHH/88eH999+P1mh9HsD89LvssovlsdJKK0Wp/wURwHEsuuiits56660X7rjjjmhpPJgLYOutt7bjnH/++cMee+wRZs6cGS39L/Rhd+jQwfJZZZVVotR48J48xu/OO+8Md999t7nDMfwOguqxxx6z5YSHH37YjHwcpkyZYs/HWmutZce26aabRkvSw7fffmsfC+Izwt26dbNnEVHQTEgMCCES4WJgq622ilJK46233gqLLbZYWGihhWw/LgbGjx9vRq99+/bhoosuCocffrgtb9u2bex3uTGYbLPffvtZBf/73//e4rvuuqstL0cefHaWY19jjTVs21xi4JRTTrFlm2++uU32wzoLLLBAeOmll6I1CoN4WXbZZcNSSy0VLrnkkvDnP//Z9sf5ZHP99de3XMtSxACCBgPP/ANjxowxIUC8X79+thxvBELhrrvuCi+88ILdJ4QUA+m+/vprWycO7733nh1bWsQA95lzZw6BLl26hOeee24usdhsSAwIIRLRGjGAK3rbbbcNW265Zdhpp51sPy4GMN7HHnus/QItXow062Cs4rD22mvb+kOHDrX4kCFDLI7hhnLkceaZZ5oRoUXJdtligNb0wgsvbF4JH3n+wQcfmFHk875xuOmmm2zfZ5xxhsW5biuuuKJ5CTINF/cCD81ZZ51l65ciBvr372/G3z+jy7HSOiaN1jHv0/O/d+/ethy4nqTFvVZQazGAqEGADho0KNx///0tYwEQBPqyosSAECIhrREDjC9YcMEF7VWtHXfc0faT2U2QybBhw2w5rV76tONw/vnn2zZHHnmkGbmjjz7a4uecc060xtwkycPBy8C22WIAI0t6x44dbf8c01VXXWVGMS6nn3667eP222+PUoJ1bZD27LPPWpyuCO7BFltsYeMSWFaKGOjbt68Zdu6ng0giDRf/hAkT7D9T8jqIANJKmc64WmKA7wAglMaNG2fXnfPD64EnAy8A6c3WBRAHiQEhRCKSigEEAEb34osvtnghMTBq1KjQrl07W/7Pf/4zSo2HCwIP5513XksLPZPW5AH5xAB976Svueaa1pKne4A4Ln9aqHHYf//9bZuHHnooSglh3333tbT77rvP4nQfIKx4/Y2P4LCsFDHw4osvmmHv2bNn+OSTT+y+EicgBD799FP7jxfknXfeMcHBmAHS+PhOXMohBrhXw4cPD4MHDzYxRFcGHgvEC8fUuXPn0L179/Dkk0+a94JnberUqTL+MZAYEEIkIokYYFDaZpttZn3o7prNJwZw5y6xxBK2LF+LPh94HjC+O+ywg7nad955ZzPI5557brTGz7QmDyefGKA1TzrHgcFlVPqee+5pacccc0y0VmF8rIMbfvB98D18WugIAWYUhCRigLcD2JcLAMYH+GDBt99+29ahu8WXEzDA/DK+IC7lEAMvv/yyGXhECsf27rvv2myBDGbk+jbCZ4FrhcSAECIRScQAg9DYhlHvGETCCiusYGkM9qNVBxgb+sDpc/e0uGDcllxySTP+/lohrVsGDDJg0V/Pa00emeQTA7Sas68PfdWk4eqPA28isD5vXTiMtSANF/huu+0W5p13XusO4Vr6QMg2bdpYPNP1Xwi6GugSwMDSTdKjRw8z9hhah2tJ/zrXEi8EyzmGuNR6zIAojMSAECIRScQAr9Uxgj8z+Ah4XPUMgJs0aZIZM1rUtNxLxY0ORjJTDBAnnf23No9M8okB+q0RIAgOH4dA1wjrHnLIIRYvhnc1YOSB/vDFF1/cXlXk9cJ99tlnrmu53HLL2foIIeI+gLIQtKg5B79WeGzIlwF2eHIIdGsgBBx/44DrGBeJgXQjMSCESEQSMZCL7G4CDBxxDBvfLsgMDMqLwyabbGL74BVDvBG+T953Z9xAOfKgD51uB95KYF90NxAn0LcO3lLfYIMN7DsHGHLitLzjgBeDbyAgmI477riw/fbb2/bkmYsk3QSfffaZGX+6IujOYOwAht7vB9fLBxTSD4944j/jGHKNwciHxEC6kRgQQiSiUmKAMQXEcwXe7Y/D5MmTw9/+9rew7rrr2nZ4Bfg4EK/JQTny2H333XNuT+CddeA9fFz4eAdIZ/DgddddZ8viMnr0aPtYEdvTpcHHkfJ9BTCJGABG2DMLH0YejwAfX8o09AwspNsD0UBggF6pX0OUGEg3EgNCiESUSwxUGtzffGGultAnz1cRS2lJZ4Ohz/wqYCUodp04j6SD9CQG0o3EgBAiES4GaH3zDnopg8lE84AHgeeDtxQkBtKLxIAQIhEuBjzwuqAQ2dA1k/mcSAykE4kBIUQicBkzYt6Dj0YXIhM9J/WBxIAQQgjR5EgMCCGEEE2OxIAQQgjR5EgMCCGEEE2OxIAQQgjR5EgMCCGEEE2OxIAQQgjR5EgMCCGEEE2OxIAQQgjR5EgMCCFKgtkATzrpJJtPv97o3r27HfvAgQOjlNKJc/7lyCebernuP/74Y/jyyy9jTcrExEhffPFF+O6776IUUSskBoRochZYYIGw2GKL2f+11lrLvh/vn4xlprwrr7wyfPjhhxYHn5M/My0tML2uTx+ci+OOO86mE7755pujlNKJc/5HHXWUrXP99ddHKa2nWL5Mbczyvn37hnPOOcf+t+Y8p0yZYlMa5wtPPPFEtObPvPvuu+Gxxx6ze8Byfnv06GGzFWbzyiuvhPvvv3+u/bEtMzuK2iAxIEST065du/CrX/3K/m+xxRZmRHy+/Guuucbiw4cPtzikVQxgvOabbz5rQVeStIqBE044wZYPHTo0XHHFFfa/W7du0dJ4sG8MNbgYwMvx4osv/iKMGzfO1oOXXnqpxaj37NnTliMEPG3MmDHRmiG89tprlvbQQw+FV199Nbz11lvhhRdesDQEAs8e3oVRo0aFzz77LNpKVBqJASGanDXWWCOst9569n+HHXYICy+8sP3fd999Q5s2bcyorLzyymbgwI0SxmD//fcPyy67rLVKX375ZVsOTFt72mmnhTXXXDMsscQS4de//rVV+IWYNGmS7a99+/bmoWB7ZkZ0mOTm1FNPDZtssklYaaWVzPhhhODWW281QcNxtW3bNqyzzjrmqs6GFjPLunbtGqWE8OCDD4ZDDz3U8mXZ0UcfbceSDz//kSNHht13393y22yzzeaawjmXGLjqqqvCTjvtZOKLa5ttqIudf7YY4Bw43iOOOMKM59lnn23LMba33HKL/e/du7etW4hPP/00jBgxoqWl3q9fP0t3MUCLvRCffPJJuOuuu2zd7EmIuGek4yUgH3j66actjePMZPLkyeZd+Prrr+187rvvvpb8x44da90JonJIDAjR5HTu3Nkqa3j44YfDddddZ/9vuummsPzyy5tROfLII1sMqBulbbbZxowaYoL4tttua8thn332sTSMLIaadRZccEGr8HMxY8aMsMwyy9g2Bx54YDj55JPD/PPPHzbeeGOb9Q7Ii+Usu/TSS205hpjW46BBg0KHDh1s+dZbbx3OO+8864/OJttI06dPHIHBcbJfuhE4tx9++MHWycbPH0OMICE/4ksttVSLwcrOB8NPfLvttjND7d0xtI4hzvlnioFnnnnGrucGG2zQ0nrGI3D55ZeHzz//3Awt/zGuuZg1a1YYPXp0eOSRR8zgcm8HDx48lzGPKwbYD+vx7OTCRQYGHWjxE8fjgGeArqhc4wtI4xj69+/f0vVA1wQi1D1XonxIDAgh8kKLFwNEy9Fxo3TJJZdYnMp83nnnNRf99OnTzRCxfMkll2wZGEZlTlo+Fz5GmOW77bZblBLC+eefHw455BAzHlT+GI/bb7+9xThuvvnmtg0tTcD4FcoDso30v//9b4t37NjRDCRgtDBS+Qa1+fnfcMMNUUpo8UpwjJCdD8YbY/bGG29Y3N34xxxzjMWLnT94vhhHri3emlz98XHw1jnGFe9DrnN1MZAvuLBDUBHPfEYyGTJkiC1HsMGcOXPsHDL3de+994YBAwbY85OL2bNn231BcLC+CwtRPiQGhBB5KSQGMvuB1157bUvDVU6Fzf9FF100bLrpphZoRZOWaewywYPAclr0+aBvGeO63377mRcArwDbPProo7Y8iRjANb/00ktb2kILLWTdGRdffHH4+OOPbXku/PzdSMPee+9taRh1yM6H1jrdEX/5y1+sK8avB8Ye4py/5+vHe8opp0RLSgcx0KVLFzPU+QywiwEMNYY8O9A9AG7sGSeQC4w8y+lWyYS3ImjlM+ATEcU6dDd88MEH0Rr/BS/B1KlTW0SMxED5kRgQQuSlkBjIHMiGwScNMfDAAw/Y/xVWWCH861//mitgWHJBXznbXHjhhVHK3DAeAbc44w8w1uxno402sm1aIwYAo8dYAro5yIPlK664Youxy8bPf/z48VFKMIFCGscGmfngyfBjpX8fY+bLXQwUO3/wfLfffnvrvuEtEB/sVyrcOwyru9/pCsCjQ3+9E7ebgO1Y78knn4xS/gtdLXRBsJz95YMxAu49yXwdE8GAyPCuhnvuucfEB+JKlBeJASFEXlwM0J/sFBMDDOrjPwMRvW+XAYWsn8/17oPfaGE7DLg7+OCDbUAbRpblDFQE9uOuee93dzFQqMWcLQZwWU+YMKGl64H+91122cXWyWcE/fx9nAUwoJE0FzuZ+bB//uN5wOjBiSeeaGkHHXSQxYudP3i+tJwxsPxnvILvMwkYf4w554qx5Zx8IGRcMcBATTf4b775ZpT6M5w76SwnL643XROMocj2SGD0WRcxgCeAwY/E8Rb06dPHPEN+n0T5kRgQQuTFW7y0YHH3QjExALSyiTMYjlfNdt55ZxtX8Pjjj9vybOh/ZuAeLXNa9jfeeKN1M2BAGQTHu/PsjxY7hiVz4CL97rTicTUT5w0GvBM+BiCTbDGAwSVOOv3YGL7111/fjjVfq5vjYhvyZ9yAu/i5Lt5izcyHgYzu2r/ssstCp06dWrpV+MXDUOz8IfO6Yyz9GjPuoRww2p83PjC8kNlNgCs/V3Bxh7ufdQlsz3PAL3HuV+b3A5599llL535h+BGPPFt0W5DO+eJRQOQxOFFvEVQHiQEhRF4wwv5GAe5piCMGeKVsjz32sBHxpK+33notBjgfGAbWY32MMa51/74BLcI//OEPZiAJfIkPo7HaaqvZ+ozQx6XsgwoxrLneXMgWA7SqeSPAhQUfX8IzwGtt+eDYWBfx4B4BXq/kWjnZ+fCmAuuyLa15rh2tfuKMIYBC5w/Z1x1DyaBNBhNm3oty4WKgUMgc1c8xIPzcqOPax/Bnf0iIa44XwMcJEGj9IxQLvdIpKovEgBCiILTSePUtCbSK/f3yuGDUc7Xqge4GXM2ZZH+el7cbkrjO6SLI3ncccHfnejUuG9bJ7uum1Zt9rIXOvx7gPDPHHhSC6809bU1XhygPEgNCCCFEkyMxIIQQQjQ5EgNCCCFEkyMxIIQQQjQ5EgNCCCFEkyMxIIQQQjQ5EgNCCCFEkyMxIIQQQjQ5EgNCCCFEkyMxIIQQQjQ5EgNCCCFEkyMxIIQQQjQ5EgNCCCFEkyMxIIQQQjQ5EgNCCCFEkyMxIIQQQjQ5EgNCCCFEkyMxIIQQQjQ5EgNCCCFEkyMxIIQQQjQ5EgNCCCFEkyMxIIQQQjQ5EgNCCCFEkyMxIIQQQjQ5EgNCCCFEUxPC/wOq+t9w+mMgJQAAAABJRU5ErkJggg==)\n",
        "\n"
      ],
      "metadata": {
        "id": "i9eDyYFEDymA"
      }
    },
    {
      "cell_type": "markdown",
      "source": [
        "###요구 사항"
      ],
      "metadata": {
        "id": "WZLSkwH1EKd2"
      }
    },
    {
      "cell_type": "code",
      "source": [
        "import random\n",
        "import torch\n",
        "import torch.nn as nn\n",
        "from torch import optim\n",
        "\n",
        "#random seed를 고정한다는 말은 동일한 셋트의 난수를 생성\n",
        "torch.manual_seed(0)\n",
        "device = torch.device(\"cuda\" if torch.cuda.is_available() else \"cpu\")     #gpu"
      ],
      "metadata": {
        "id": "t2atPhJPEIKi"
      },
      "execution_count": 66,
      "outputs": []
    },
    {
      "cell_type": "markdown",
      "source": [
        "\n",
        "\n",
        "*   언어의 각 단어들은 one-hot 벡터 또는 그 단어의 주소에만 단 하나의 1을 제외하고 모두 0인 벡터로 표현\n",
        "![one_hot.PNG](data:image/png;base64,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)\n",
        "\n"
      ],
      "metadata": {
        "id": "HlaFG3WJEbFg"
      }
    },
    {
      "cell_type": "markdown",
      "source": [
        "#Seq2Seq 모델\n",
        "\n",
        "*   인코더 및 디코더라고하는 두 개의 RNN으로 구성된 모델\n",
        "*   \"I feel hungry. -->\t나는 배가 고프다.\"를 번역\n",
        "\n",
        "\n",
        "\n",
        "\n",
        "\n",
        "\n"
      ],
      "metadata": {
        "id": "yPlCw8CdE2G-"
      }
    },
    {
      "cell_type": "markdown",
      "source": [
        "###manual 데이터 선언 & 전처리"
      ],
      "metadata": {
        "id": "YEVOHdYBLSiX"
      }
    },
    {
      "cell_type": "code",
      "source": [
        "# 데이터를 직접 선언한 경우 --> 영어 tab 한국어 구조\n",
        "raw = [\"I feel hungry.\t나는 배가 고프다.\"]\n",
        "       \n",
        "# fix token for \"start of sentence\" and \"end of sentence\"\n",
        "# decoder의 마지막 출력물을 받아오고 첫번째 step의 index를 받아온다.\n",
        "SOS_token = 0 \n",
        "EOS_token = 1 # 문장의 종료를 알려주는 것\n",
        "\n",
        "# declare max length for sentence\n",
        "SOURCE_MAX_LENGTH = 10\n",
        "TARGET_MAX_LENGTH = 12"
      ],
      "metadata": {
        "id": "jzhrZeUOLYx_"
      },
      "execution_count": 67,
      "outputs": []
    },
    {
      "cell_type": "code",
      "source": [
        "# 데이터 단어 관련 class\n",
        "class Vocab:\n",
        "    def __init__(self):\n",
        "        self.vocab2index = {\"<SOS>\": SOS_token, \"<EOS>\": EOS_token}\n",
        "        self.index2vocab = {SOS_token: \"<SOS>\", EOS_token: \"<EOS>\"}\n",
        "        self.vocab_count = {}\n",
        "        self.n_vocab = len(self.vocab2index)\n",
        "\n",
        "    def add_vocab(self, sentence):\n",
        "        for word in sentence.split(\" \"):\n",
        "            if word not in self.vocab2index:\n",
        "                self.vocab2index[word] = self.n_vocab\n",
        "                self.vocab_count[word] = 1\n",
        "                self.index2vocab[self.n_vocab] = word\n",
        "                self.n_vocab += 1\n",
        "            else:\n",
        "                self.vocab_count[word] += 1"
      ],
      "metadata": {
        "id": "QR3ocJERkXl_"
      },
      "execution_count": 68,
      "outputs": []
    },
    {
      "cell_type": "code",
      "source": [
        "# corpous 데이터 읽고 전처리\n",
        "def preprocess(corpus, source_max_length, target_max_length):\n",
        "    print(\"reading corpus...\")\n",
        "    pairs = []\n",
        "    for line in corpus:\n",
        "        pairs.append([s for s in line.strip().lower().split(\"\\t\")])\n",
        "    print(\"Read {} sentence pairs\".format(len(pairs)))\n",
        "\n",
        "    source_vocab = Vocab()\n",
        "    target_vocab = Vocab()\n",
        "\n",
        "    print(\"Counting words...\")\n",
        "    for pair in pairs:\n",
        "        source_vocab.add_vocab(pair[0])\n",
        "        target_vocab.add_vocab(pair[1])\n",
        "    print(\"source vocab size =\", source_vocab.n_vocab)\n",
        "    print(\"target vocab size =\", target_vocab.n_vocab)\n",
        "\n",
        "    return pairs, source_vocab, target_vocab"
      ],
      "metadata": {
        "id": "pcM4gvl7k2xd"
      },
      "execution_count": 69,
      "outputs": []
    },
    {
      "cell_type": "markdown",
      "source": [
        "###인코더\n",
        "\n",
        "*   seq2seq 네트워크의 인코더는 입력 문장의 모든 단어에 대해 어떤 값을 출력하는 RNN\n",
        "\n",
        "![encoder.PNG](data:image/png;base64,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)\n",
        "\n",
        "\n"
      ],
      "metadata": {
        "id": "-9H1NmTEFOjt"
      }
    },
    {
      "cell_type": "code",
      "source": [
        "class EncoderRNN(nn.Module):\n",
        "    def __init__(self, input_size, hidden_size):\n",
        "        super(EncoderRNN, self).__init__()\n",
        "        self.hidden_size = hidden_size\n",
        "\n",
        "        self.embedding = nn.Embedding(input_size, hidden_size)\n",
        "        self.rnn = nn.RNN(hidden_size, hidden_size)\n",
        "\n",
        "    def forward(self, input, hidden):\n",
        "        embedded = self.embedding(input).view(1, 1, -1)\n",
        "        output = embedded\n",
        "        output, hidden = self.rnn(output, hidden)\n",
        "        return output, hidden\n",
        "\n",
        "    def initHidden(self):\n",
        "        result = Variable(torch.zeros(1, 1, self.hidden_size))\n",
        "        if use_cuda:\n",
        "            return result.cuda()\n",
        "        else:\n",
        "            return result"
      ],
      "metadata": {
        "id": "wvGcNvTAFbFQ"
      },
      "execution_count": 70,
      "outputs": []
    },
    {
      "cell_type": "markdown",
      "source": [
        "nn.Embedding()\n",
        "![embedding.PNG](data:image/png;base64,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)"
      ],
      "metadata": {
        "id": "v0CFcfvW6PFo"
      }
    },
    {
      "cell_type": "markdown",
      "source": [
        "###디코더\n",
        "*   디코더는 인코더 출력 벡터를 받아서 번역을 생성하는 단어 시퀀스를 출력\n",
        "\n",
        "![decoder.PNG](data:image/png;base64,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)\n"
      ],
      "metadata": {
        "id": "gACFk5tpFdSF"
      }
    },
    {
      "cell_type": "code",
      "source": [
        "class DecoderRNN(nn.Module):\n",
        "    def __init__(self, hidden_size, output_size):\n",
        "        super(DecoderRNN, self).__init__()\n",
        "        self.hidden_size = hidden_size\n",
        "\n",
        "        self.embedding = nn.Embedding(output_size, hidden_size)\n",
        "        self.rnn = nn.RNN(hidden_size, hidden_size)\n",
        "        self.out = nn.Linear(hidden_size, output_size)\n",
        "        self.softmax = nn.LogSoftmax(dim=1)\n",
        "        self.relu = nn.ReLU()\n",
        "\n",
        "    def forward(self, input, hidden):\n",
        "        output = self.embedding(input).view(1, 1, -1)\n",
        "        output = self.relu(output)\n",
        "        output, hidden = self.rnn(output, hidden)\n",
        "        output = self.softmax(self.out(output[0]))\n",
        "        return output, hidden\n",
        "\n",
        "    def initHidden(self):\n",
        "        result = Variable(torch.zeros(1, 1, self.hidden_size))\n",
        "        if use_cuda:\n",
        "            return result.cuda()\n",
        "        else:\n",
        "            return result"
      ],
      "metadata": {
        "id": "uKOUDD20FrTv"
      },
      "execution_count": 71,
      "outputs": []
    },
    {
      "cell_type": "markdown",
      "source": [
        "###학습 function"
      ],
      "metadata": {
        "id": "RGUTVq7cGD7D"
      }
    },
    {
      "cell_type": "code",
      "source": [
        "# 문장을 index tensor로 변환\n",
        "def tensorize(vocab, sentence):\n",
        "    indexes = [vocab.vocab2index[word] for word in sentence.split(\" \")]\n",
        "    indexes.append(vocab.vocab2index[\"<EOS>\"])\n",
        "    return torch.Tensor(indexes).long().to(device).view(-1, 1)"
      ],
      "metadata": {
        "id": "y9WI0JfKReu6"
      },
      "execution_count": 72,
      "outputs": []
    },
    {
      "cell_type": "code",
      "source": [
        "# training seq2seq\n",
        "def train(pairs, source_vocab, target_vocab, encoder, decoder, n_iter, print_every=1000, learning_rate=0.01):\n",
        "    loss_total = 0\n",
        "\n",
        "    encoder_optimizer = optim.SGD(encoder.parameters(), lr=learning_rate)\n",
        "    decoder_optimizer = optim.SGD(decoder.parameters(), lr=learning_rate)\n",
        "\n",
        "    training_batch = [random.choice(pairs) for _ in range(n_iter)]\n",
        "    training_source = [tensorize(source_vocab, pair[0]) for pair in training_batch]\n",
        "    training_target = [tensorize(target_vocab, pair[1]) for pair in training_batch]\n",
        "\n",
        "    criterion = nn.NLLLoss()\n",
        "\n",
        "    for i in range(1, n_iter + 1):\n",
        "        source_tensor = training_source[i - 1]\n",
        "        target_tensor = training_target[i - 1]\n",
        "\n",
        "        encoder_hidden = torch.zeros([1, 1, encoder.hidden_size]).to(device)\n",
        "\n",
        "        encoder_optimizer.zero_grad()\n",
        "        decoder_optimizer.zero_grad()\n",
        "\n",
        "        source_length = source_tensor.size(0)\n",
        "        target_length = target_tensor.size(0)\n",
        "\n",
        "        loss = 0\n",
        "\n",
        "        for enc_input in range(source_length):\n",
        "            _, encoder_hidden = encoder(source_tensor[enc_input], encoder_hidden)\n",
        "\n",
        "        decoder_input = torch.Tensor([[SOS_token]]).long().to(device)\n",
        "        decoder_hidden = encoder_hidden # connect encoder output to decoder input\n",
        "\n",
        "        for di in range(target_length):\n",
        "            decoder_output, decoder_hidden = decoder(decoder_input, decoder_hidden)\n",
        "            loss += criterion(decoder_output, target_tensor[di])\n",
        "            decoder_input = target_tensor[di]  # teacher forcing\n",
        "\n",
        "        loss.backward()\n",
        "\n",
        "        encoder_optimizer.step()\n",
        "        decoder_optimizer.step()\n",
        "\n",
        "        loss_iter = loss.item() / target_length\n",
        "        loss_total += loss_iter\n",
        "\n",
        "        if i % print_every == 0:\n",
        "            loss_avg = loss_total / print_every\n",
        "            loss_total = 0\n",
        "            print(\"[{} - {}%] loss = {:05.4f}\".format(i, i / n_iter * 100, loss_avg))"
      ],
      "metadata": {
        "id": "hCEJMdBGGGFp"
      },
      "execution_count": 73,
      "outputs": []
    },
    {
      "cell_type": "markdown",
      "source": [
        "###각 class 초기화"
      ],
      "metadata": {
        "id": "Bz2NDeFRusNo"
      }
    },
    {
      "cell_type": "code",
      "source": [
        "# preprocess the corpus\n",
        "load_pairs, load_source_vocab, load_target_vocab = preprocess(raw, SOURCE_MAX_LENGTH, TARGET_MAX_LENGTH)\n",
        "print(random.choice(load_pairs))"
      ],
      "metadata": {
        "colab": {
          "base_uri": "https://localhost:8080/"
        },
        "id": "-6za-Qp_lTMZ",
        "outputId": "f8fb507e-628b-4841-f588-e36b30335ee3"
      },
      "execution_count": 74,
      "outputs": [
        {
          "output_type": "stream",
          "name": "stdout",
          "text": [
            "reading corpus...\n",
            "Read 1 sentence pairs\n",
            "Counting words...\n",
            "source vocab size = 5\n",
            "target vocab size = 5\n",
            "['i feel hungry.', '나는 배가 고프다.']\n"
          ]
        }
      ]
    },
    {
      "cell_type": "code",
      "source": [
        "print(load_pairs)\n",
        "print(load_source_vocab.vocab2index)\n",
        "print(load_target_vocab.index2vocab)"
      ],
      "metadata": {
        "colab": {
          "base_uri": "https://localhost:8080/"
        },
        "id": "5LRS6fPvsOal",
        "outputId": "ee5e49db-0419-447a-b34f-b27e5b9c83a1"
      },
      "execution_count": 75,
      "outputs": [
        {
          "output_type": "stream",
          "name": "stdout",
          "text": [
            "[['i feel hungry.', '나는 배가 고프다.']]\n",
            "{'<SOS>': 0, '<EOS>': 1, 'i': 2, 'feel': 3, 'hungry.': 4}\n",
            "{0: '<SOS>', 1: '<EOS>', 2: '나는', 3: '배가', 4: '고프다.'}\n"
          ]
        }
      ]
    },
    {
      "cell_type": "code",
      "source": [
        "# declare the encoder and the decoder\n",
        "enc_hidden_size = 16\n",
        "dec_hidden_size = enc_hidden_size\n",
        "enc = EncoderRNN(load_source_vocab.n_vocab, enc_hidden_size).to(device)\n",
        "dec = DecoderRNN(dec_hidden_size, load_target_vocab.n_vocab).to(device)"
      ],
      "metadata": {
        "id": "6KSLEtQPlVcW"
      },
      "execution_count": 76,
      "outputs": []
    },
    {
      "cell_type": "markdown",
      "source": [
        "###학습"
      ],
      "metadata": {
        "id": "5z8G9KwCuoep"
      }
    },
    {
      "cell_type": "code",
      "source": [
        "# train seq2seq model\n",
        "train(load_pairs, load_source_vocab, load_target_vocab, enc, dec, 5000, print_every=1000)"
      ],
      "metadata": {
        "colab": {
          "base_uri": "https://localhost:8080/"
        },
        "id": "B34C-sgKlWoq",
        "outputId": "37f15c51-c1b2-4e6c-bdff-5da4702f4e29"
      },
      "execution_count": 77,
      "outputs": [
        {
          "output_type": "stream",
          "name": "stdout",
          "text": [
            "[1000 - 20.0%] loss = 0.0729\n",
            "[2000 - 40.0%] loss = 0.0039\n",
            "[3000 - 60.0%] loss = 0.0022\n",
            "[4000 - 80.0%] loss = 0.0015\n",
            "[5000 - 100.0%] loss = 0.0012\n"
          ]
        }
      ]
    },
    {
      "cell_type": "markdown",
      "source": [
        "###번역"
      ],
      "metadata": {
        "id": "mOzZaAisuzzq"
      }
    },
    {
      "cell_type": "code",
      "source": [
        "# insert given sentence to check the training\n",
        "def evaluate(pairs, source_vocab, target_vocab, encoder, decoder, target_max_length):\n",
        "    for pair in pairs:\n",
        "        print(\">\", pair[0])\n",
        "        print(\"=\", pair[1])\n",
        "        source_tensor = tensorize(source_vocab, pair[0])\n",
        "        source_length = source_tensor.size()[0]\n",
        "        encoder_hidden = torch.zeros([1, 1, encoder.hidden_size]).to(device)\n",
        "\n",
        "        for ei in range(source_length):\n",
        "            _, encoder_hidden = encoder(source_tensor[ei], encoder_hidden)\n",
        "\n",
        "        decoder_input = torch.Tensor([[SOS_token]], device=device).long()\n",
        "        decoder_hidden = encoder_hidden\n",
        "        decoded_words = []\n",
        "\n",
        "        for di in range(target_max_length):\n",
        "            decoder_output, decoder_hidden = decoder(decoder_input, decoder_hidden)\n",
        "            _, top_index = decoder_output.data.topk(1)\n",
        "            if top_index.item() == EOS_token:\n",
        "                decoded_words.append(\"<EOS>\")\n",
        "                break\n",
        "            else:\n",
        "                decoded_words.append(target_vocab.index2vocab[top_index.item()])\n",
        "\n",
        "            decoder_input = top_index.squeeze().detach()\n",
        "\n",
        "        predict_words = decoded_words\n",
        "        predict_sentence = \" \".join(predict_words)\n",
        "        print(\"<\", predict_sentence)\n",
        "        print(\"\")"
      ],
      "metadata": {
        "id": "KHLM6FG_mU75"
      },
      "execution_count": 78,
      "outputs": []
    },
    {
      "cell_type": "code",
      "source": [
        "# check the model with given data\n",
        "evaluate(load_pairs, load_source_vocab, load_target_vocab, enc, dec, TARGET_MAX_LENGTH)"
      ],
      "metadata": {
        "colab": {
          "base_uri": "https://localhost:8080/"
        },
        "id": "R-6kEt6QmXHO",
        "outputId": "8c250c20-b885-48dd-acd5-cdba1f90fd8e"
      },
      "execution_count": 79,
      "outputs": [
        {
          "output_type": "stream",
          "name": "stdout",
          "text": [
            "> i feel hungry.\n",
            "= 나는 배가 고프다.\n",
            "< 나는 배가 고프다. <EOS>\n",
            "\n"
          ]
        }
      ]
    }
  ]
}